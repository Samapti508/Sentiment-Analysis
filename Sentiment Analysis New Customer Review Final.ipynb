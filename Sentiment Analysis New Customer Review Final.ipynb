{
 "cells": [
  {
   "cell_type": "markdown",
   "id": "44798266",
   "metadata": {},
   "source": [
    "    Installing Necessaary libraries"
   ]
  },
  {
   "cell_type": "code",
   "execution_count": 11,
   "id": "509bc693",
   "metadata": {},
   "outputs": [
    {
     "name": "stdout",
     "output_type": "stream",
     "text": [
      "Collecting scikit-learn==1.2.2\n",
      "  Obtaining dependency information for scikit-learn==1.2.2 from https://files.pythonhosted.org/packages/db/98/169b46a84b48f92df2b5e163fce75d471f4df933f8b3d925a61133210776/scikit_learn-1.2.2-cp311-cp311-win_amd64.whl.metadata\n",
      "  Downloading scikit_learn-1.2.2-cp311-cp311-win_amd64.whl.metadata (11 kB)\n",
      "Requirement already satisfied: numpy>=1.17.3 in c:\\users\\samapti\\anaconda3\\lib\\site-packages (from scikit-learn==1.2.2) (1.24.3)\n",
      "Requirement already satisfied: scipy>=1.3.2 in c:\\users\\samapti\\anaconda3\\lib\\site-packages (from scikit-learn==1.2.2) (1.11.1)\n",
      "Requirement already satisfied: joblib>=1.1.1 in c:\\users\\samapti\\anaconda3\\lib\\site-packages (from scikit-learn==1.2.2) (1.2.0)\n",
      "Requirement already satisfied: threadpoolctl>=2.0.0 in c:\\users\\samapti\\anaconda3\\lib\\site-packages (from scikit-learn==1.2.2) (2.2.0)\n",
      "Downloading scikit_learn-1.2.2-cp311-cp311-win_amd64.whl (8.3 MB)\n",
      "   ---------------------------------------- 0.0/8.3 MB ? eta -:--:--\n",
      "   ---------------------------------------- 0.0/8.3 MB ? eta -:--:--\n",
      "   ---------------------------------------- 0.0/8.3 MB ? eta -:--:--\n",
      "   ---------------------------------------- 0.1/8.3 MB 1.1 MB/s eta 0:00:08\n",
      "    --------------------------------------- 0.2/8.3 MB 1.7 MB/s eta 0:00:05\n",
      "   - -------------------------------------- 0.3/8.3 MB 2.0 MB/s eta 0:00:04\n",
      "   -- ------------------------------------- 0.5/8.3 MB 2.6 MB/s eta 0:00:03\n",
      "   --- ------------------------------------ 0.7/8.3 MB 2.7 MB/s eta 0:00:03\n",
      "   ---- ----------------------------------- 1.0/8.3 MB 3.2 MB/s eta 0:00:03\n",
      "   ----- ---------------------------------- 1.2/8.3 MB 3.4 MB/s eta 0:00:03\n",
      "   ------ --------------------------------- 1.3/8.3 MB 3.4 MB/s eta 0:00:03\n",
      "   ------- -------------------------------- 1.6/8.3 MB 3.5 MB/s eta 0:00:02\n",
      "   -------- ------------------------------- 1.8/8.3 MB 3.6 MB/s eta 0:00:02\n",
      "   --------- ------------------------------ 1.9/8.3 MB 3.6 MB/s eta 0:00:02\n",
      "   ---------- ----------------------------- 2.2/8.3 MB 3.7 MB/s eta 0:00:02\n",
      "   ----------- ---------------------------- 2.3/8.3 MB 3.7 MB/s eta 0:00:02\n",
      "   ------------ --------------------------- 2.5/8.3 MB 3.7 MB/s eta 0:00:02\n",
      "   ------------- -------------------------- 2.7/8.3 MB 3.8 MB/s eta 0:00:02\n",
      "   -------------- ------------------------- 2.9/8.3 MB 3.8 MB/s eta 0:00:02\n",
      "   --------------- ------------------------ 3.2/8.3 MB 3.9 MB/s eta 0:00:02\n",
      "   ---------------- ----------------------- 3.3/8.3 MB 3.9 MB/s eta 0:00:02\n",
      "   ----------------- ---------------------- 3.6/8.3 MB 3.9 MB/s eta 0:00:02\n",
      "   ------------------ --------------------- 3.8/8.3 MB 3.9 MB/s eta 0:00:02\n",
      "   ------------------- -------------------- 4.1/8.3 MB 3.9 MB/s eta 0:00:02\n",
      "   -------------------- ------------------- 4.3/8.3 MB 4.0 MB/s eta 0:00:02\n",
      "   --------------------- ------------------ 4.5/8.3 MB 4.0 MB/s eta 0:00:01\n",
      "   ---------------------- ----------------- 4.7/8.3 MB 4.1 MB/s eta 0:00:01\n",
      "   ------------------------ --------------- 5.0/8.3 MB 4.1 MB/s eta 0:00:01\n",
      "   ------------------------- -------------- 5.2/8.3 MB 4.1 MB/s eta 0:00:01\n",
      "   -------------------------- ------------- 5.4/8.3 MB 4.1 MB/s eta 0:00:01\n",
      "   --------------------------- ------------ 5.7/8.3 MB 4.2 MB/s eta 0:00:01\n",
      "   ----------------------------- ---------- 6.0/8.3 MB 4.2 MB/s eta 0:00:01\n",
      "   ------------------------------ --------- 6.3/8.3 MB 4.2 MB/s eta 0:00:01\n",
      "   ------------------------------- -------- 6.5/8.3 MB 4.2 MB/s eta 0:00:01\n",
      "   -------------------------------- ------- 6.7/8.3 MB 4.3 MB/s eta 0:00:01\n",
      "   --------------------------------- ------ 6.9/8.3 MB 4.3 MB/s eta 0:00:01\n",
      "   ---------------------------------- ----- 7.2/8.3 MB 4.3 MB/s eta 0:00:01\n",
      "   ------------------------------------ --- 7.5/8.3 MB 4.3 MB/s eta 0:00:01\n",
      "   ------------------------------------- -- 7.7/8.3 MB 4.4 MB/s eta 0:00:01\n",
      "   -------------------------------------- - 7.9/8.3 MB 4.4 MB/s eta 0:00:01\n",
      "   ---------------------------------------  8.2/8.3 MB 4.4 MB/s eta 0:00:01\n",
      "   ---------------------------------------  8.3/8.3 MB 4.4 MB/s eta 0:00:01\n",
      "   ---------------------------------------  8.3/8.3 MB 4.4 MB/s eta 0:00:01\n",
      "   ---------------------------------------  8.3/8.3 MB 4.4 MB/s eta 0:00:01\n",
      "   ---------------------------------------  8.3/8.3 MB 4.4 MB/s eta 0:00:01\n",
      "   ---------------------------------------- 8.3/8.3 MB 4.0 MB/s eta 0:00:00\n",
      "Installing collected packages: scikit-learn\n",
      "  Attempting uninstall: scikit-learn\n",
      "    Found existing installation: scikit-learn 1.3.0\n",
      "    Uninstalling scikit-learn-1.3.0:\n",
      "      Successfully uninstalled scikit-learn-1.3.0\n",
      "Successfully installed scikit-learn-1.2.2\n"
     ]
    },
    {
     "name": "stderr",
     "output_type": "stream",
     "text": [
      "ERROR: pip's dependency resolver does not currently take into account all the packages that are installed. This behaviour is the source of the following dependency conflicts.\n",
      "farm-haystack 1.25.0 requires scikit-learn>=1.3.0, but you have scikit-learn 1.2.2 which is incompatible.\n"
     ]
    }
   ],
   "source": [
    "!pip install scikit-learn==1.2.2"
   ]
  },
  {
   "cell_type": "markdown",
   "id": "42a72aeb",
   "metadata": {},
   "source": [
    "Importing Necessary libraries"
   ]
  },
  {
   "cell_type": "code",
   "execution_count": 1,
   "id": "6aa72423",
   "metadata": {
    "scrolled": true
   },
   "outputs": [],
   "source": [
    "import pandas as pd\n",
    "from sklearn.feature_extraction.text import TfidfVectorizer\n",
    "from sklearn.model_selection import train_test_split\n",
    "from sklearn.ensemble import RandomForestClassifier\n",
    "from sklearn.metrics import classification_report\n",
    "from imblearn.over_sampling import SMOTE\n",
    "from sklearn.utils import resample\n",
    "import time"
   ]
  },
  {
   "cell_type": "code",
   "execution_count": 26,
   "id": "d917f5bb",
   "metadata": {},
   "outputs": [],
   "source": [
    "import pandas as pd\n",
    "import matplotlib.pyplot as plt\n",
    "import torch\n",
    "from transformers import BertTokenizer, BertForSequenceClassification\n",
    "from torch.utils.data import DataLoader, Dataset, random_split\n",
    "from sklearn.preprocessing import LabelEncoder\n",
    "from sklearn.model_selection import train_test_split\n",
    "from torch.optim import AdamW\n",
    "from torch.nn.functional import cross_entropy"
   ]
  },
  {
   "cell_type": "code",
   "execution_count": 27,
   "id": "7eed9a70",
   "metadata": {},
   "outputs": [],
   "source": [
    "import torch.nn.functional as F"
   ]
  },
  {
   "cell_type": "code",
   "execution_count": 4,
   "id": "f7313428",
   "metadata": {},
   "outputs": [],
   "source": [
    "from transformers import BertTokenizer\n",
    "tokenizer = BertTokenizer.from_pretrained('bert-base-uncased', do_lower_case=True)"
   ]
  },
  {
   "cell_type": "markdown",
   "id": "3284ad02",
   "metadata": {},
   "source": [
    "The Dataset contain product_name, Rate , Review, Summary which is descriptive informationn of customer's thought on each product and Sentiment based on Summary. We will use Summary and Sentiment column for this analysis."
   ]
  },
  {
   "cell_type": "code",
   "execution_count": 5,
   "id": "da005bca",
   "metadata": {
    "scrolled": false
   },
   "outputs": [
    {
     "data": {
      "text/html": [
       "<div>\n",
       "<style scoped>\n",
       "    .dataframe tbody tr th:only-of-type {\n",
       "        vertical-align: middle;\n",
       "    }\n",
       "\n",
       "    .dataframe tbody tr th {\n",
       "        vertical-align: top;\n",
       "    }\n",
       "\n",
       "    .dataframe thead th {\n",
       "        text-align: right;\n",
       "    }\n",
       "</style>\n",
       "<table border=\"1\" class=\"dataframe\">\n",
       "  <thead>\n",
       "    <tr style=\"text-align: right;\">\n",
       "      <th></th>\n",
       "      <th>product_name</th>\n",
       "      <th>product_price</th>\n",
       "      <th>Rate</th>\n",
       "      <th>Review</th>\n",
       "      <th>Summary</th>\n",
       "      <th>Sentiment</th>\n",
       "    </tr>\n",
       "  </thead>\n",
       "  <tbody>\n",
       "    <tr>\n",
       "      <th>0</th>\n",
       "      <td>Candes 12 L Room/Personal Air Cooler??????(Whi...</td>\n",
       "      <td>3999</td>\n",
       "      <td>5</td>\n",
       "      <td>super!</td>\n",
       "      <td>great cooler excellent air flow and for this p...</td>\n",
       "      <td>positive</td>\n",
       "    </tr>\n",
       "    <tr>\n",
       "      <th>1</th>\n",
       "      <td>Candes 12 L Room/Personal Air Cooler??????(Whi...</td>\n",
       "      <td>3999</td>\n",
       "      <td>5</td>\n",
       "      <td>awesome</td>\n",
       "      <td>best budget 2 fit cooler nice cooling</td>\n",
       "      <td>positive</td>\n",
       "    </tr>\n",
       "    <tr>\n",
       "      <th>2</th>\n",
       "      <td>Candes 12 L Room/Personal Air Cooler??????(Whi...</td>\n",
       "      <td>3999</td>\n",
       "      <td>3</td>\n",
       "      <td>fair</td>\n",
       "      <td>the quality is good but the power of air is de...</td>\n",
       "      <td>positive</td>\n",
       "    </tr>\n",
       "    <tr>\n",
       "      <th>3</th>\n",
       "      <td>Candes 12 L Room/Personal Air Cooler??????(Whi...</td>\n",
       "      <td>3999</td>\n",
       "      <td>1</td>\n",
       "      <td>useless product</td>\n",
       "      <td>very bad product its a only a fan</td>\n",
       "      <td>negative</td>\n",
       "    </tr>\n",
       "    <tr>\n",
       "      <th>4</th>\n",
       "      <td>Candes 12 L Room/Personal Air Cooler??????(Whi...</td>\n",
       "      <td>3999</td>\n",
       "      <td>3</td>\n",
       "      <td>fair</td>\n",
       "      <td>ok ok product</td>\n",
       "      <td>neutral</td>\n",
       "    </tr>\n",
       "  </tbody>\n",
       "</table>\n",
       "</div>"
      ],
      "text/plain": [
       "                                        product_name product_price Rate  \\\n",
       "0  Candes 12 L Room/Personal Air Cooler??????(Whi...          3999    5   \n",
       "1  Candes 12 L Room/Personal Air Cooler??????(Whi...          3999    5   \n",
       "2  Candes 12 L Room/Personal Air Cooler??????(Whi...          3999    3   \n",
       "3  Candes 12 L Room/Personal Air Cooler??????(Whi...          3999    1   \n",
       "4  Candes 12 L Room/Personal Air Cooler??????(Whi...          3999    3   \n",
       "\n",
       "            Review                                            Summary  \\\n",
       "0           super!  great cooler excellent air flow and for this p...   \n",
       "1          awesome              best budget 2 fit cooler nice cooling   \n",
       "2             fair  the quality is good but the power of air is de...   \n",
       "3  useless product                  very bad product its a only a fan   \n",
       "4             fair                                      ok ok product   \n",
       "\n",
       "  Sentiment  \n",
       "0  positive  \n",
       "1  positive  \n",
       "2  positive  \n",
       "3  negative  \n",
       "4   neutral  "
      ]
     },
     "execution_count": 5,
     "metadata": {},
     "output_type": "execute_result"
    }
   ],
   "source": [
    "df=pd.read_csv(\"Flipkart_Product_Review.csv\")\n",
    "df.head()"
   ]
  },
  {
   "cell_type": "code",
   "execution_count": 6,
   "id": "0d3c2881",
   "metadata": {
    "scrolled": true
   },
   "outputs": [
    {
     "data": {
      "text/plain": [
       "205052"
      ]
     },
     "execution_count": 6,
     "metadata": {},
     "output_type": "execute_result"
    }
   ],
   "source": [
    "df.shape[0]"
   ]
  },
  {
   "cell_type": "code",
   "execution_count": 7,
   "id": "5b5f99cc",
   "metadata": {
    "scrolled": false
   },
   "outputs": [
    {
     "data": {
      "text/plain": [
       "product_name     object\n",
       "product_price    object\n",
       "Rate             object\n",
       "Review           object\n",
       "Summary          object\n",
       "Sentiment        object\n",
       "dtype: object"
      ]
     },
     "execution_count": 7,
     "metadata": {},
     "output_type": "execute_result"
    }
   ],
   "source": [
    "df.dtypes"
   ]
  },
  {
   "cell_type": "code",
   "execution_count": 8,
   "id": "49951331",
   "metadata": {},
   "outputs": [
    {
     "data": {
      "text/plain": [
       "product_name         0\n",
       "product_price        0\n",
       "Rate                 0\n",
       "Review           24664\n",
       "Summary             11\n",
       "Sentiment            0\n",
       "dtype: int64"
      ]
     },
     "execution_count": 8,
     "metadata": {},
     "output_type": "execute_result"
    }
   ],
   "source": [
    "df.isnull().sum()"
   ]
  },
  {
   "cell_type": "code",
   "execution_count": 9,
   "id": "5dd02ae8",
   "metadata": {},
   "outputs": [],
   "source": [
    "# Convert 'Rate' column to numeric, coercing errors to NaN\n",
    "df['Rate'] = pd.to_numeric(df['Rate'], errors='coerce')"
   ]
  },
  {
   "cell_type": "code",
   "execution_count": 10,
   "id": "4831c794",
   "metadata": {},
   "outputs": [
    {
     "data": {
      "text/plain": [
       "product_name      object\n",
       "product_price     object\n",
       "Rate             float64\n",
       "Review            object\n",
       "Summary           object\n",
       "Sentiment         object\n",
       "dtype: object"
      ]
     },
     "execution_count": 10,
     "metadata": {},
     "output_type": "execute_result"
    }
   ],
   "source": [
    "df.dtypes"
   ]
  },
  {
   "cell_type": "code",
   "execution_count": 11,
   "id": "7e20bc91",
   "metadata": {
    "scrolled": true
   },
   "outputs": [
    {
     "data": {
      "text/plain": [
       "product_name         0\n",
       "product_price        0\n",
       "Rate                 3\n",
       "Review           24664\n",
       "Summary             11\n",
       "Sentiment            0\n",
       "dtype: int64"
      ]
     },
     "execution_count": 11,
     "metadata": {},
     "output_type": "execute_result"
    }
   ],
   "source": [
    "df.isnull().sum()"
   ]
  },
  {
   "cell_type": "code",
   "execution_count": 12,
   "id": "b8a8cccb",
   "metadata": {},
   "outputs": [],
   "source": [
    "df_rate = df.dropna(subset=['Rate'])"
   ]
  },
  {
   "cell_type": "code",
   "execution_count": 13,
   "id": "994de301",
   "metadata": {
    "scrolled": false
   },
   "outputs": [
    {
     "data": {
      "text/html": [
       "<div>\n",
       "<style scoped>\n",
       "    .dataframe tbody tr th:only-of-type {\n",
       "        vertical-align: middle;\n",
       "    }\n",
       "\n",
       "    .dataframe tbody tr th {\n",
       "        vertical-align: top;\n",
       "    }\n",
       "\n",
       "    .dataframe thead th {\n",
       "        text-align: right;\n",
       "    }\n",
       "</style>\n",
       "<table border=\"1\" class=\"dataframe\">\n",
       "  <thead>\n",
       "    <tr style=\"text-align: right;\">\n",
       "      <th></th>\n",
       "      <th>product_name</th>\n",
       "      <th>product_price</th>\n",
       "      <th>Rate</th>\n",
       "      <th>Review</th>\n",
       "      <th>Summary</th>\n",
       "      <th>Sentiment</th>\n",
       "    </tr>\n",
       "  </thead>\n",
       "  <tbody>\n",
       "    <tr>\n",
       "      <th>123</th>\n",
       "      <td>MAHARAJA WHITELINE 65 L Desert Air Cooler?????...</td>\n",
       "      <td>7999</td>\n",
       "      <td>5.0</td>\n",
       "      <td>perfect product!</td>\n",
       "      <td>not working motors and very bad poor maharaja ...</td>\n",
       "      <td>negative</td>\n",
       "    </tr>\n",
       "    <tr>\n",
       "      <th>359</th>\n",
       "      <td>MAHARAJA WHITELINE 65 L Desert Air Cooler?????...</td>\n",
       "      <td>7999</td>\n",
       "      <td>4.0</td>\n",
       "      <td>value-for-money</td>\n",
       "      <td>first thing cooler is very silent at the lowes...</td>\n",
       "      <td>negative</td>\n",
       "    </tr>\n",
       "    <tr>\n",
       "      <th>395</th>\n",
       "      <td>MAHARAJA WHITELINE 65 L Desert Air Cooler?????...</td>\n",
       "      <td>7999</td>\n",
       "      <td>5.0</td>\n",
       "      <td>classy product</td>\n",
       "      <td>good but there is have no stand thats much des...</td>\n",
       "      <td>negative</td>\n",
       "    </tr>\n",
       "    <tr>\n",
       "      <th>469</th>\n",
       "      <td>MAHARAJA WHITELINE 65 L Desert Air Cooler?????...</td>\n",
       "      <td>7999</td>\n",
       "      <td>5.0</td>\n",
       "      <td>brilliant</td>\n",
       "      <td>good productbuying worst</td>\n",
       "      <td>negative</td>\n",
       "    </tr>\n",
       "    <tr>\n",
       "      <th>544</th>\n",
       "      <td>MAHARAJA WHITELINE 65 L Desert Air Cooler?????...</td>\n",
       "      <td>7999</td>\n",
       "      <td>5.0</td>\n",
       "      <td>terrific</td>\n",
       "      <td>nice products but one problem brod size</td>\n",
       "      <td>negative</td>\n",
       "    </tr>\n",
       "    <tr>\n",
       "      <th>...</th>\n",
       "      <td>...</td>\n",
       "      <td>...</td>\n",
       "      <td>...</td>\n",
       "      <td>...</td>\n",
       "      <td>...</td>\n",
       "      <td>...</td>\n",
       "    </tr>\n",
       "    <tr>\n",
       "      <th>204891</th>\n",
       "      <td>cello Pack of 18 Opalware Cello Dazzle Lush Fi...</td>\n",
       "      <td>1299</td>\n",
       "      <td>4.0</td>\n",
       "      <td>worth the money</td>\n",
       "      <td>size of each type of item is a bit smaller tha...</td>\n",
       "      <td>negative</td>\n",
       "    </tr>\n",
       "    <tr>\n",
       "      <th>204903</th>\n",
       "      <td>cello Pack of 18 Opalware Cello Dazzle Lush Fi...</td>\n",
       "      <td>1299</td>\n",
       "      <td>5.0</td>\n",
       "      <td>perfect product!</td>\n",
       "      <td>goodbut little bit small in size</td>\n",
       "      <td>negative</td>\n",
       "    </tr>\n",
       "    <tr>\n",
       "      <th>204933</th>\n",
       "      <td>cello Pack of 18 Opalware Cello Dazzle Lush Fi...</td>\n",
       "      <td>1299</td>\n",
       "      <td>5.0</td>\n",
       "      <td>must buy!</td>\n",
       "      <td>all products are goodbutwhy do you restrict th...</td>\n",
       "      <td>negative</td>\n",
       "    </tr>\n",
       "    <tr>\n",
       "      <th>204977</th>\n",
       "      <td>cello Pack of 18 Opalware Cello Dazzle Lush Fi...</td>\n",
       "      <td>1299</td>\n",
       "      <td>4.0</td>\n",
       "      <td>good quality product</td>\n",
       "      <td>size is small</td>\n",
       "      <td>negative</td>\n",
       "    </tr>\n",
       "    <tr>\n",
       "      <th>205012</th>\n",
       "      <td>cello Pack of 18 Opalware Cello Dazzle Lush Fi...</td>\n",
       "      <td>1299</td>\n",
       "      <td>5.0</td>\n",
       "      <td>just wow!</td>\n",
       "      <td>plates are small</td>\n",
       "      <td>negative</td>\n",
       "    </tr>\n",
       "  </tbody>\n",
       "</table>\n",
       "<p>1708 rows × 6 columns</p>\n",
       "</div>"
      ],
      "text/plain": [
       "                                             product_name product_price  Rate  \\\n",
       "123     MAHARAJA WHITELINE 65 L Desert Air Cooler?????...          7999   5.0   \n",
       "359     MAHARAJA WHITELINE 65 L Desert Air Cooler?????...          7999   4.0   \n",
       "395     MAHARAJA WHITELINE 65 L Desert Air Cooler?????...          7999   5.0   \n",
       "469     MAHARAJA WHITELINE 65 L Desert Air Cooler?????...          7999   5.0   \n",
       "544     MAHARAJA WHITELINE 65 L Desert Air Cooler?????...          7999   5.0   \n",
       "...                                                   ...           ...   ...   \n",
       "204891  cello Pack of 18 Opalware Cello Dazzle Lush Fi...          1299   4.0   \n",
       "204903  cello Pack of 18 Opalware Cello Dazzle Lush Fi...          1299   5.0   \n",
       "204933  cello Pack of 18 Opalware Cello Dazzle Lush Fi...          1299   5.0   \n",
       "204977  cello Pack of 18 Opalware Cello Dazzle Lush Fi...          1299   4.0   \n",
       "205012  cello Pack of 18 Opalware Cello Dazzle Lush Fi...          1299   5.0   \n",
       "\n",
       "                      Review  \\\n",
       "123         perfect product!   \n",
       "359          value-for-money   \n",
       "395           classy product   \n",
       "469                brilliant   \n",
       "544                 terrific   \n",
       "...                      ...   \n",
       "204891       worth the money   \n",
       "204903      perfect product!   \n",
       "204933             must buy!   \n",
       "204977  good quality product   \n",
       "205012             just wow!   \n",
       "\n",
       "                                                  Summary Sentiment  \n",
       "123     not working motors and very bad poor maharaja ...  negative  \n",
       "359     first thing cooler is very silent at the lowes...  negative  \n",
       "395     good but there is have no stand thats much des...  negative  \n",
       "469                              good productbuying worst  negative  \n",
       "544               nice products but one problem brod size  negative  \n",
       "...                                                   ...       ...  \n",
       "204891  size of each type of item is a bit smaller tha...  negative  \n",
       "204903                   goodbut little bit small in size  negative  \n",
       "204933  all products are goodbutwhy do you restrict th...  negative  \n",
       "204977                                      size is small  negative  \n",
       "205012                                   plates are small  negative  \n",
       "\n",
       "[1708 rows x 6 columns]"
      ]
     },
     "execution_count": 13,
     "metadata": {},
     "output_type": "execute_result"
    }
   ],
   "source": [
    "df_rate[(df_rate['Rate']>3) & (df_rate['Sentiment']=='negative')]"
   ]
  },
  {
   "cell_type": "code",
   "execution_count": 14,
   "id": "3d0f2002",
   "metadata": {
    "scrolled": true
   },
   "outputs": [
    {
     "data": {
      "text/html": [
       "<div>\n",
       "<style scoped>\n",
       "    .dataframe tbody tr th:only-of-type {\n",
       "        vertical-align: middle;\n",
       "    }\n",
       "\n",
       "    .dataframe tbody tr th {\n",
       "        vertical-align: top;\n",
       "    }\n",
       "\n",
       "    .dataframe thead th {\n",
       "        text-align: right;\n",
       "    }\n",
       "</style>\n",
       "<table border=\"1\" class=\"dataframe\">\n",
       "  <thead>\n",
       "    <tr style=\"text-align: right;\">\n",
       "      <th></th>\n",
       "      <th>product_name</th>\n",
       "      <th>product_price</th>\n",
       "      <th>Rate</th>\n",
       "      <th>Review</th>\n",
       "      <th>Summary</th>\n",
       "      <th>Sentiment</th>\n",
       "    </tr>\n",
       "  </thead>\n",
       "  <tbody>\n",
       "    <tr>\n",
       "      <th>59</th>\n",
       "      <td>MAHARAJA WHITELINE 65 L Desert Air Cooler?????...</td>\n",
       "      <td>7999</td>\n",
       "      <td>1.0</td>\n",
       "      <td>worthless</td>\n",
       "      <td>the product doesnt cool as rated by other cust...</td>\n",
       "      <td>positive</td>\n",
       "    </tr>\n",
       "    <tr>\n",
       "      <th>73</th>\n",
       "      <td>MAHARAJA WHITELINE 65 L Desert Air Cooler?????...</td>\n",
       "      <td>7999</td>\n",
       "      <td>1.0</td>\n",
       "      <td>useless product</td>\n",
       "      <td>dont buy maharaja whiteline coolers they have ...</td>\n",
       "      <td>positive</td>\n",
       "    </tr>\n",
       "    <tr>\n",
       "      <th>86</th>\n",
       "      <td>MAHARAJA WHITELINE 65 L Desert Air Cooler?????...</td>\n",
       "      <td>7999</td>\n",
       "      <td>2.0</td>\n",
       "      <td>expected a better product</td>\n",
       "      <td>this is my review after using this product for...</td>\n",
       "      <td>positive</td>\n",
       "    </tr>\n",
       "    <tr>\n",
       "      <th>126</th>\n",
       "      <td>MAHARAJA WHITELINE 65 L Desert Air Cooler?????...</td>\n",
       "      <td>7999</td>\n",
       "      <td>2.0</td>\n",
       "      <td>bad quality</td>\n",
       "      <td>fan speed is slow and making lot of noise</td>\n",
       "      <td>positive</td>\n",
       "    </tr>\n",
       "    <tr>\n",
       "      <th>147</th>\n",
       "      <td>MAHARAJA WHITELINE 65 L Desert Air Cooler?????...</td>\n",
       "      <td>7999</td>\n",
       "      <td>1.0</td>\n",
       "      <td>absolute rubbish!</td>\n",
       "      <td>speed of cooler is slower than fan after one w...</td>\n",
       "      <td>positive</td>\n",
       "    </tr>\n",
       "    <tr>\n",
       "      <th>...</th>\n",
       "      <td>...</td>\n",
       "      <td>...</td>\n",
       "      <td>...</td>\n",
       "      <td>...</td>\n",
       "      <td>...</td>\n",
       "      <td>...</td>\n",
       "    </tr>\n",
       "    <tr>\n",
       "      <th>203498</th>\n",
       "      <td>cello Pack of 18 Opalware Cello Dazzle Lush Fi...</td>\n",
       "      <td>1299</td>\n",
       "      <td>2.0</td>\n",
       "      <td>classy product</td>\n",
       "      <td>amazing product</td>\n",
       "      <td>positive</td>\n",
       "    </tr>\n",
       "    <tr>\n",
       "      <th>203661</th>\n",
       "      <td>cello Pack of 18 Opalware Cello Dazzle Lush Fi...</td>\n",
       "      <td>1299</td>\n",
       "      <td>1.0</td>\n",
       "      <td>waste of money!</td>\n",
       "      <td>products is very good but products is very ver...</td>\n",
       "      <td>positive</td>\n",
       "    </tr>\n",
       "    <tr>\n",
       "      <th>204192</th>\n",
       "      <td>cello Pack of 18 Opalware Cello Dazzle Lush Fi...</td>\n",
       "      <td>1299</td>\n",
       "      <td>1.0</td>\n",
       "      <td>worst experience ever!</td>\n",
       "      <td>bast</td>\n",
       "      <td>positive</td>\n",
       "    </tr>\n",
       "    <tr>\n",
       "      <th>204646</th>\n",
       "      <td>cello Pack of 18 Opalware Cello Dazzle Lush Fi...</td>\n",
       "      <td>1299</td>\n",
       "      <td>1.0</td>\n",
       "      <td>useless product</td>\n",
       "      <td>plate size r ok but bowles r too small for cur...</td>\n",
       "      <td>positive</td>\n",
       "    </tr>\n",
       "    <tr>\n",
       "      <th>204668</th>\n",
       "      <td>cello Pack of 18 Opalware Cello Dazzle Lush Fi...</td>\n",
       "      <td>1299</td>\n",
       "      <td>1.0</td>\n",
       "      <td>not recommended at all</td>\n",
       "      <td>full plates size is very small like half plate</td>\n",
       "      <td>positive</td>\n",
       "    </tr>\n",
       "  </tbody>\n",
       "</table>\n",
       "<p>2008 rows × 6 columns</p>\n",
       "</div>"
      ],
      "text/plain": [
       "                                             product_name product_price  Rate  \\\n",
       "59      MAHARAJA WHITELINE 65 L Desert Air Cooler?????...          7999   1.0   \n",
       "73      MAHARAJA WHITELINE 65 L Desert Air Cooler?????...          7999   1.0   \n",
       "86      MAHARAJA WHITELINE 65 L Desert Air Cooler?????...          7999   2.0   \n",
       "126     MAHARAJA WHITELINE 65 L Desert Air Cooler?????...          7999   2.0   \n",
       "147     MAHARAJA WHITELINE 65 L Desert Air Cooler?????...          7999   1.0   \n",
       "...                                                   ...           ...   ...   \n",
       "203498  cello Pack of 18 Opalware Cello Dazzle Lush Fi...          1299   2.0   \n",
       "203661  cello Pack of 18 Opalware Cello Dazzle Lush Fi...          1299   1.0   \n",
       "204192  cello Pack of 18 Opalware Cello Dazzle Lush Fi...          1299   1.0   \n",
       "204646  cello Pack of 18 Opalware Cello Dazzle Lush Fi...          1299   1.0   \n",
       "204668  cello Pack of 18 Opalware Cello Dazzle Lush Fi...          1299   1.0   \n",
       "\n",
       "                           Review  \\\n",
       "59                      worthless   \n",
       "73                useless product   \n",
       "86      expected a better product   \n",
       "126                   bad quality   \n",
       "147             absolute rubbish!   \n",
       "...                           ...   \n",
       "203498             classy product   \n",
       "203661            waste of money!   \n",
       "204192     worst experience ever!   \n",
       "204646            useless product   \n",
       "204668     not recommended at all   \n",
       "\n",
       "                                                  Summary Sentiment  \n",
       "59      the product doesnt cool as rated by other cust...  positive  \n",
       "73      dont buy maharaja whiteline coolers they have ...  positive  \n",
       "86      this is my review after using this product for...  positive  \n",
       "126             fan speed is slow and making lot of noise  positive  \n",
       "147     speed of cooler is slower than fan after one w...  positive  \n",
       "...                                                   ...       ...  \n",
       "203498                                    amazing product  positive  \n",
       "203661  products is very good but products is very ver...  positive  \n",
       "204192                                               bast  positive  \n",
       "204646  plate size r ok but bowles r too small for cur...  positive  \n",
       "204668     full plates size is very small like half plate  positive  \n",
       "\n",
       "[2008 rows x 6 columns]"
      ]
     },
     "execution_count": 14,
     "metadata": {},
     "output_type": "execute_result"
    }
   ],
   "source": [
    "df_rate[(df_rate['Rate']<3) & (df_rate['Sentiment']=='positive')]"
   ]
  },
  {
   "cell_type": "code",
   "execution_count": 15,
   "id": "3e91ebef",
   "metadata": {},
   "outputs": [],
   "source": [
    "df_cleaned=df_rate[((df_rate['Rate']>=3) & (df_rate['Sentiment']=='positive')) | ((df_rate['Rate']<=3) & (df_rate['Sentiment']=='negative')) | (df_rate['Sentiment']=='neutral')]"
   ]
  },
  {
   "cell_type": "markdown",
   "id": "b4fa4194",
   "metadata": {},
   "source": [
    "We have some discrepancies the data in such a way that a higher rating product's sentiment is recorded as negative and a lower rating product's sentiment is recorded as positive. So we have removed those discrepancies."
   ]
  },
  {
   "cell_type": "code",
   "execution_count": 16,
   "id": "1090cf10",
   "metadata": {},
   "outputs": [
    {
     "data": {
      "text/plain": [
       "201333"
      ]
     },
     "execution_count": 16,
     "metadata": {},
     "output_type": "execute_result"
    }
   ],
   "source": [
    "df_cleaned.shape[0]"
   ]
  },
  {
   "cell_type": "code",
   "execution_count": 17,
   "id": "105a634b",
   "metadata": {},
   "outputs": [
    {
     "data": {
      "text/plain": [
       "Sentiment\n",
       "positive    164571\n",
       "negative     26523\n",
       "neutral      10239\n",
       "Name: count, dtype: int64"
      ]
     },
     "execution_count": 17,
     "metadata": {},
     "output_type": "execute_result"
    }
   ],
   "source": [
    "df_cleaned['Sentiment'].value_counts()"
   ]
  },
  {
   "cell_type": "code",
   "execution_count": 18,
   "id": "1db41dbc",
   "metadata": {},
   "outputs": [
    {
     "data": {
      "text/plain": [
       "958"
      ]
     },
     "execution_count": 18,
     "metadata": {},
     "output_type": "execute_result"
    }
   ],
   "source": [
    "df_cleaned['product_name'].nunique()"
   ]
  },
  {
   "cell_type": "code",
   "execution_count": 19,
   "id": "715abecd",
   "metadata": {
    "scrolled": false
   },
   "outputs": [
    {
     "data": {
      "text/plain": [
       "product_name         0\n",
       "product_price        0\n",
       "Rate                 0\n",
       "Review           24299\n",
       "Summary             11\n",
       "Sentiment            0\n",
       "dtype: int64"
      ]
     },
     "execution_count": 19,
     "metadata": {},
     "output_type": "execute_result"
    }
   ],
   "source": [
    "df_cleaned.isnull().sum()"
   ]
  },
  {
   "cell_type": "markdown",
   "id": "4dcf29db",
   "metadata": {},
   "source": [
    "We will be using Summary to get the prediction of the sentiment. So we are removing the null values."
   ]
  },
  {
   "cell_type": "code",
   "execution_count": 20,
   "id": "b294f5c6",
   "metadata": {},
   "outputs": [],
   "source": [
    "df_cleaned = df_cleaned.dropna(subset=['Summary'])"
   ]
  },
  {
   "cell_type": "code",
   "execution_count": 21,
   "id": "6dd87ef1",
   "metadata": {},
   "outputs": [
    {
     "data": {
      "text/plain": [
       "201322"
      ]
     },
     "execution_count": 21,
     "metadata": {},
     "output_type": "execute_result"
    }
   ],
   "source": [
    "df_cleaned.shape[0]"
   ]
  },
  {
   "cell_type": "code",
   "execution_count": 22,
   "id": "71693335",
   "metadata": {
    "scrolled": false
   },
   "outputs": [
    {
     "data": {
      "text/html": [
       "<div>\n",
       "<style scoped>\n",
       "    .dataframe tbody tr th:only-of-type {\n",
       "        vertical-align: middle;\n",
       "    }\n",
       "\n",
       "    .dataframe tbody tr th {\n",
       "        vertical-align: top;\n",
       "    }\n",
       "\n",
       "    .dataframe thead th {\n",
       "        text-align: right;\n",
       "    }\n",
       "</style>\n",
       "<table border=\"1\" class=\"dataframe\">\n",
       "  <thead>\n",
       "    <tr style=\"text-align: right;\">\n",
       "      <th></th>\n",
       "      <th>product_name</th>\n",
       "      <th>Summary</th>\n",
       "      <th>Sentiment</th>\n",
       "    </tr>\n",
       "  </thead>\n",
       "  <tbody>\n",
       "    <tr>\n",
       "      <th>0</th>\n",
       "      <td>Candes 12 L Room/Personal Air Cooler??????(Whi...</td>\n",
       "      <td>great cooler excellent air flow and for this p...</td>\n",
       "      <td>positive</td>\n",
       "    </tr>\n",
       "    <tr>\n",
       "      <th>1</th>\n",
       "      <td>Candes 12 L Room/Personal Air Cooler??????(Whi...</td>\n",
       "      <td>best budget 2 fit cooler nice cooling</td>\n",
       "      <td>positive</td>\n",
       "    </tr>\n",
       "    <tr>\n",
       "      <th>2</th>\n",
       "      <td>Candes 12 L Room/Personal Air Cooler??????(Whi...</td>\n",
       "      <td>the quality is good but the power of air is de...</td>\n",
       "      <td>positive</td>\n",
       "    </tr>\n",
       "    <tr>\n",
       "      <th>3</th>\n",
       "      <td>Candes 12 L Room/Personal Air Cooler??????(Whi...</td>\n",
       "      <td>very bad product its a only a fan</td>\n",
       "      <td>negative</td>\n",
       "    </tr>\n",
       "    <tr>\n",
       "      <th>4</th>\n",
       "      <td>Candes 12 L Room/Personal Air Cooler??????(Whi...</td>\n",
       "      <td>ok ok product</td>\n",
       "      <td>neutral</td>\n",
       "    </tr>\n",
       "  </tbody>\n",
       "</table>\n",
       "</div>"
      ],
      "text/plain": [
       "                                        product_name  \\\n",
       "0  Candes 12 L Room/Personal Air Cooler??????(Whi...   \n",
       "1  Candes 12 L Room/Personal Air Cooler??????(Whi...   \n",
       "2  Candes 12 L Room/Personal Air Cooler??????(Whi...   \n",
       "3  Candes 12 L Room/Personal Air Cooler??????(Whi...   \n",
       "4  Candes 12 L Room/Personal Air Cooler??????(Whi...   \n",
       "\n",
       "                                             Summary Sentiment  \n",
       "0  great cooler excellent air flow and for this p...  positive  \n",
       "1              best budget 2 fit cooler nice cooling  positive  \n",
       "2  the quality is good but the power of air is de...  positive  \n",
       "3                  very bad product its a only a fan  negative  \n",
       "4                                      ok ok product   neutral  "
      ]
     },
     "execution_count": 22,
     "metadata": {},
     "output_type": "execute_result"
    }
   ],
   "source": [
    "df_summary=df_cleaned[['product_name', 'Summary','Sentiment']]\n",
    "df_summary.head()"
   ]
  },
  {
   "cell_type": "code",
   "execution_count": 23,
   "id": "77f5d250",
   "metadata": {
    "scrolled": false
   },
   "outputs": [
    {
     "data": {
      "text/plain": [
       "product_name    0\n",
       "Summary         0\n",
       "Sentiment       0\n",
       "dtype: int64"
      ]
     },
     "execution_count": 23,
     "metadata": {},
     "output_type": "execute_result"
    }
   ],
   "source": [
    "df_summary.isnull().sum()"
   ]
  },
  {
   "cell_type": "code",
   "execution_count": 24,
   "id": "a1dcb9f8",
   "metadata": {
    "scrolled": false
   },
   "outputs": [
    {
     "data": {
      "text/plain": [
       "Sentiment\n",
       "positive    164565\n",
       "negative     26523\n",
       "neutral      10234\n",
       "Name: count, dtype: int64"
      ]
     },
     "execution_count": 24,
     "metadata": {},
     "output_type": "execute_result"
    }
   ],
   "source": [
    "df_summary['Sentiment'].value_counts()"
   ]
  },
  {
   "cell_type": "code",
   "execution_count": 28,
   "id": "b5d7f862",
   "metadata": {},
   "outputs": [],
   "source": [
    "counts = df_summary['Sentiment'].value_counts()"
   ]
  },
  {
   "cell_type": "code",
   "execution_count": 29,
   "id": "d65642a0",
   "metadata": {},
   "outputs": [
    {
     "data": {
      "image/png": "[encoded data removed]",
      "text/plain": [
       "<Figure size 640x480 with 1 Axes>"
      ]
     },
     "metadata": {},
     "output_type": "display_data"
    }
   ],
   "source": [
    "plt.pie(counts, labels=counts.index, autopct='%1.1f%%', startangle=140)\n",
    "plt.axis('equal')  # Equal aspect ratio ensures that pie is drawn as a circle.\n",
    "plt.title(\"Fruit Distribution\")\n",
    "plt.show()"
   ]
  },
  {
   "cell_type": "markdown",
   "id": "c3ec6c12",
   "metadata": {},
   "source": [
    "This is a very imbalanced dataset which can cause bias towards one class. So I am going to upsample the Negative and Neutral classes."
   ]
  },
  {
   "cell_type": "markdown",
   "id": "51592b28",
   "metadata": {},
   "source": [
    "Splitting the data in train and test dataset."
   ]
  },
  {
   "cell_type": "code",
   "execution_count": 30,
   "id": "b6d4de9a",
   "metadata": {},
   "outputs": [],
   "source": [
    "X = df_summary['Summary']\n",
    "\n",
    "y = df_summary['Sentiment']\n",
    "\n",
    "# Step 3: Split data into training and testing sets\n",
    "X_train, X_test, y_train, y_test = train_test_split(X, y, test_size=0.2, random_state=42)"
   ]
  },
  {
   "cell_type": "code",
   "execution_count": 31,
   "id": "3b685250",
   "metadata": {
    "scrolled": true
   },
   "outputs": [
    {
     "data": {
      "text/html": [
       "<div>\n",
       "<style scoped>\n",
       "    .dataframe tbody tr th:only-of-type {\n",
       "        vertical-align: middle;\n",
       "    }\n",
       "\n",
       "    .dataframe tbody tr th {\n",
       "        vertical-align: top;\n",
       "    }\n",
       "\n",
       "    .dataframe thead th {\n",
       "        text-align: right;\n",
       "    }\n",
       "</style>\n",
       "<table border=\"1\" class=\"dataframe\">\n",
       "  <thead>\n",
       "    <tr style=\"text-align: right;\">\n",
       "      <th></th>\n",
       "      <th>Summary</th>\n",
       "      <th>Sentiment</th>\n",
       "    </tr>\n",
       "  </thead>\n",
       "  <tbody>\n",
       "    <tr>\n",
       "      <th>10135</th>\n",
       "      <td>quality is nice but go for one larger size</td>\n",
       "      <td>positive</td>\n",
       "    </tr>\n",
       "    <tr>\n",
       "      <th>79285</th>\n",
       "      <td>this is the best</td>\n",
       "      <td>positive</td>\n",
       "    </tr>\n",
       "    <tr>\n",
       "      <th>86779</th>\n",
       "      <td>very nice product</td>\n",
       "      <td>positive</td>\n",
       "    </tr>\n",
       "    <tr>\n",
       "      <th>86846</th>\n",
       "      <td>nice</td>\n",
       "      <td>positive</td>\n",
       "    </tr>\n",
       "    <tr>\n",
       "      <th>3819</th>\n",
       "      <td>awesome</td>\n",
       "      <td>positive</td>\n",
       "    </tr>\n",
       "  </tbody>\n",
       "</table>\n",
       "</div>"
      ],
      "text/plain": [
       "                                          Summary Sentiment\n",
       "10135  quality is nice but go for one larger size  positive\n",
       "79285                            this is the best  positive\n",
       "86779                           very nice product  positive\n",
       "86846                                        nice  positive\n",
       "3819                                      awesome  positive"
      ]
     },
     "execution_count": 31,
     "metadata": {},
     "output_type": "execute_result"
    }
   ],
   "source": [
    "# Combine the training features and labels into a single DataFrame\n",
    "train_dataset = pd.DataFrame({'Summary': X_train, 'Sentiment': y_train})\n",
    "\n",
    "train_dataset.head()"
   ]
  },
  {
   "cell_type": "code",
   "execution_count": 32,
   "id": "c21f373c",
   "metadata": {},
   "outputs": [
    {
     "data": {
      "text/plain": [
       "Sentiment\n",
       "positive    131647\n",
       "negative     21258\n",
       "neutral       8152\n",
       "Name: count, dtype: int64"
      ]
     },
     "execution_count": 32,
     "metadata": {},
     "output_type": "execute_result"
    }
   ],
   "source": [
    "train_dataset[\"Sentiment\"].value_counts()"
   ]
  },
  {
   "cell_type": "code",
   "execution_count": 33,
   "id": "9a2dabb2",
   "metadata": {
    "scrolled": true
   },
   "outputs": [
    {
     "name": "stdout",
     "output_type": "stream",
     "text": [
      "Sentiment\n",
      "positive    50000\n",
      "negative    50000\n",
      "neutral     50000\n",
      "Name: count, dtype: int64\n"
     ]
    }
   ],
   "source": [
    "# Separate majority and minority classes\n",
    "df_positive = train_dataset[train_dataset['Sentiment'] == 'positive']\n",
    "df_negative = train_dataset[train_dataset['Sentiment'] == 'negative']\n",
    "df_neutral = train_dataset[train_dataset['Sentiment'] == 'neutral']\n",
    "\n",
    "df_positive=df_positive.sample(n=50000)\n",
    "\n",
    "# Upsample minority class\n",
    "df_negative_upsampled = resample(df_negative, \n",
    "                                 replace=True,     # sample with replacement\n",
    "                                 n_samples=50000,    # to match majority class\n",
    "                                 random_state=42)  # reproducible results\n",
    "\n",
    "# Upsample minority class\n",
    "df_neutral_upsampled = resample(df_neutral, \n",
    "                                 replace=True,     # sample with replacement\n",
    "                                 n_samples=50000,    # to match majority class\n",
    "                                 random_state=42)  # reproducible results\n",
    "\n",
    "# Combine majority class with upsampled minority class\n",
    "df_upsampled = pd.concat([df_positive, df_negative_upsampled, df_neutral_upsampled])\n",
    "\n",
    "print(df_upsampled['Sentiment'].value_counts())"
   ]
  },
  {
   "cell_type": "markdown",
   "id": "8890865a",
   "metadata": {},
   "source": [
    "From Summary we are making TFIDF word vectors."
   ]
  },
  {
   "cell_type": "code",
   "execution_count": 34,
   "id": "aa560637",
   "metadata": {},
   "outputs": [],
   "source": [
    "# Step 1: Vectorize text data (TF-IDF vectorization)\n",
    "vectorizer = TfidfVectorizer()\n",
    "X_train = vectorizer.fit_transform(df_upsampled['Summary'])\n",
    "y_train = df_upsampled['Sentiment']"
   ]
  },
  {
   "cell_type": "markdown",
   "id": "7939458f",
   "metadata": {},
   "source": [
    "Used the TFIDF word vectors of Summary and Sentiment to train a random forest model. It took almost 20 minutes to train."
   ]
  },
  {
   "cell_type": "code",
   "execution_count": 34,
   "id": "080382b3",
   "metadata": {
    "scrolled": true
   },
   "outputs": [
    {
     "name": "stdout",
     "output_type": "stream",
     "text": [
      "Time taken in minutes: 18.041948318481445\n"
     ]
    }
   ],
   "source": [
    "start_time=time.time()\n",
    "\n",
    "# Step 4: Train a Random Forest classifier\n",
    "rf_classifier = RandomForestClassifier(n_estimators=100, random_state=42)\n",
    "rf_classifier.fit(X_train, y_train)\n",
    "\n",
    "end_time=time.time()\n",
    "\n",
    "execution_time=end_time-start_time\n",
    "\n",
    "print(\"Time taken in minutes:\",execution_time/60)"
   ]
  },
  {
   "cell_type": "markdown",
   "id": "a393ec61",
   "metadata": {},
   "source": [
    "Process the test data and check the predictions."
   ]
  },
  {
   "cell_type": "code",
   "execution_count": 114,
   "id": "875ea988",
   "metadata": {},
   "outputs": [],
   "source": [
    "X_test=vectorizer.transform(X_test)"
   ]
  },
  {
   "cell_type": "markdown",
   "id": "eb720083",
   "metadata": {},
   "source": [
    "The evaluation metrics. The f1 score for the positive class is 97%, for the negative class 0.88%. But for the neutral class it's 0.54%."
   ]
  },
  {
   "cell_type": "code",
   "execution_count": 115,
   "id": "78f143bf",
   "metadata": {},
   "outputs": [
    {
     "name": "stdout",
     "output_type": "stream",
     "text": [
      "              precision    recall  f1-score   support\n",
      "\n",
      "    negative       0.84      0.92      0.88      5265\n",
      "     neutral       0.49      0.59      0.54      2082\n",
      "    positive       0.98      0.95      0.97     32918\n",
      "\n",
      "    accuracy                           0.93     40265\n",
      "   macro avg       0.77      0.82      0.79     40265\n",
      "weighted avg       0.94      0.93      0.93     40265\n",
      "\n"
     ]
    }
   ],
   "source": [
    "# Step 5: Predict on test data and evaluate\n",
    "y_pred = rf_classifier.predict(X_test)\n",
    "print(classification_report(y_test, y_pred))"
   ]
  },
  {
   "cell_type": "code",
   "execution_count": 116,
   "id": "fbf4423a",
   "metadata": {
    "scrolled": true
   },
   "outputs": [
    {
     "name": "stdout",
     "output_type": "stream",
     "text": [
      "              precision    recall  f1-score   support\n",
      "\n",
      "    negative       0.99      0.98      0.99     50000\n",
      "     neutral       0.97      0.96      0.96     50000\n",
      "    positive       0.97      0.98      0.98     50000\n",
      "\n",
      "    accuracy                           0.98    150000\n",
      "   macro avg       0.98      0.98      0.98    150000\n",
      "weighted avg       0.98      0.98      0.98    150000\n",
      "\n"
     ]
    }
   ],
   "source": [
    "# Step 5: Predict on train data and evaluate\n",
    "y_pred_train = rf_classifier.predict(X_train)\n",
    "print(classification_report(y_train, y_pred_train))"
   ]
  },
  {
   "cell_type": "markdown",
   "id": "6f794d5d",
   "metadata": {},
   "source": [
    "Prediction on given comments."
   ]
  },
  {
   "cell_type": "code",
   "execution_count": 38,
   "id": "4d8b6384",
   "metadata": {},
   "outputs": [
    {
     "data": {
      "text/plain": [
       "array(['negative'], dtype=object)"
      ]
     },
     "execution_count": 38,
     "metadata": {},
     "output_type": "execute_result"
    }
   ],
   "source": [
    "dict={\"comment\":[\"The product was absolutely horrible. I can not believe they can rob me on this with high price and disgusting quality.\"]}\n",
    "\n",
    "df_comment = pd.DataFrame(dict)\n",
    "\n",
    "x = vectorizer.transform(df_comment[\"comment\"])\n",
    "\n",
    "rf_classifier.predict(x)"
   ]
  },
  {
   "cell_type": "code",
   "execution_count": 39,
   "id": "bbcfa51f",
   "metadata": {},
   "outputs": [
    {
     "data": {
      "text/plain": [
       "array(['neutral'], dtype=object)"
      ]
     },
     "execution_count": 39,
     "metadata": {},
     "output_type": "execute_result"
    }
   ],
   "source": [
    "dict={\"comment\":[\"It's Ok product for me.\"]}\n",
    "\n",
    "df_comment = pd.DataFrame(dict)\n",
    "\n",
    "x = vectorizer.transform(df_comment[\"comment\"])\n",
    "\n",
    "rf_classifier.predict(x)"
   ]
  },
  {
   "cell_type": "code",
   "execution_count": 40,
   "id": "121b810e",
   "metadata": {
    "scrolled": true
   },
   "outputs": [
    {
     "data": {
      "text/plain": [
       "array(['positive'], dtype=object)"
      ]
     },
     "execution_count": 40,
     "metadata": {},
     "output_type": "execute_result"
    }
   ],
   "source": [
    "dict={\"comment\":[\"I am in love with this dress. Also the brand is known for sustainable clothing so I can spend extra for that cause.\"]}\n",
    "\n",
    "df_comment = pd.DataFrame(dict)\n",
    "\n",
    "x = vectorizer.transform(df_comment[\"comment\"])\n",
    "\n",
    "rf_classifier.predict(x)"
   ]
  },
  {
   "cell_type": "markdown",
   "id": "397a24cb",
   "metadata": {},
   "source": [
    "I changed the n_estimators=1000 but it didn't improve the performance."
   ]
  },
  {
   "cell_type": "code",
   "execution_count": 38,
   "id": "4375fd41",
   "metadata": {},
   "outputs": [
    {
     "name": "stdout",
     "output_type": "stream",
     "text": [
      "Time taken in minutes: 163.5511042157809\n"
     ]
    }
   ],
   "source": [
    "start_time=time.time()\n",
    "\n",
    "# Step 4: Train a Random Forest classifier\n",
    "rf_classifier = RandomForestClassifier(n_estimators=1000, random_state=42)\n",
    "rf_classifier.fit(X_train, y_train)\n",
    "\n",
    "end_time=time.time()\n",
    "\n",
    "execution_time=end_time-start_time\n",
    "\n",
    "print(\"Time taken in minutes:\",execution_time/60)"
   ]
  },
  {
   "cell_type": "code",
   "execution_count": 39,
   "id": "11c5de9e",
   "metadata": {},
   "outputs": [
    {
     "name": "stdout",
     "output_type": "stream",
     "text": [
      "Time taken in minutes: 2.7258517369296817\n"
     ]
    }
   ],
   "source": [
    "print(\"Time taken in minutes:\",execution_time/3600)"
   ]
  },
  {
   "cell_type": "code",
   "execution_count": 40,
   "id": "89f27b00",
   "metadata": {
    "scrolled": true
   },
   "outputs": [
    {
     "name": "stdout",
     "output_type": "stream",
     "text": [
      "              precision    recall  f1-score   support\n",
      "\n",
      "    negative       0.84      0.92      0.88      5265\n",
      "     neutral       0.50      0.59      0.54      2082\n",
      "    positive       0.98      0.96      0.97     32918\n",
      "\n",
      "    accuracy                           0.93     40265\n",
      "   macro avg       0.77      0.82      0.80     40265\n",
      "weighted avg       0.94      0.93      0.93     40265\n",
      "\n"
     ]
    }
   ],
   "source": [
    "# Step 5: Predict on test data and evaluate\n",
    "y_pred = rf_classifier.predict(X_test)\n",
    "print(classification_report(y_test, y_pred))"
   ]
  },
  {
   "cell_type": "markdown",
   "id": "36f05b72",
   "metadata": {},
   "source": [
    "Then I downsampled the data to tackle class imbalance but it didn't improve the result."
   ]
  },
  {
   "cell_type": "code",
   "execution_count": 60,
   "id": "1ecaca28",
   "metadata": {},
   "outputs": [
    {
     "name": "stdout",
     "output_type": "stream",
     "text": [
      "Sentiment\n",
      "positive    8000\n",
      "negative    8000\n",
      "neutral     8000\n",
      "Name: count, dtype: int64\n"
     ]
    }
   ],
   "source": [
    "# Separate majority and minority classes\n",
    "df_positive = train_dataset[train_dataset['Sentiment'] == 'positive']\n",
    "df_negative = train_dataset[train_dataset['Sentiment'] == 'negative']\n",
    "df_neutral = train_dataset[train_dataset['Sentiment'] == 'neutral']\n",
    "\n",
    "df_positive_downsampled=df_positive.sample(n=8000)\n",
    "\n",
    "# Upsample minority class\n",
    "df_negative_downsampled = df_negative.sample(n=8000)\n",
    "\n",
    "# Upsample minority class\n",
    "df_neutral_downsampled = df_neutral.sample(n=8000)\n",
    "\n",
    "# Combine majority class with upsampled minority class\n",
    "df_downsampled = pd.concat([df_positive_downsampled, df_negative_downsampled, df_neutral_downsampled])\n",
    "\n",
    "print(df_downsampled['Sentiment'].value_counts())"
   ]
  },
  {
   "cell_type": "code",
   "execution_count": 61,
   "id": "8ec5bd1c",
   "metadata": {},
   "outputs": [],
   "source": [
    "# Step 1: Vectorize text data (TF-IDF vectorization)\n",
    "vectorizer = TfidfVectorizer()\n",
    "X_train = vectorizer.fit_transform(df_downsampled['Summary'])\n",
    "y_train = df_downsampled['Sentiment']"
   ]
  },
  {
   "cell_type": "code",
   "execution_count": 62,
   "id": "90e44e86",
   "metadata": {},
   "outputs": [
    {
     "name": "stdout",
     "output_type": "stream",
     "text": [
      "Time taken in minutes: 2.3224698265393573\n"
     ]
    }
   ],
   "source": [
    "start_time=time.time()\n",
    "\n",
    "# Step 4: Train a Random Forest classifier\n",
    "rf_classifier = RandomForestClassifier(n_estimators=100, random_state=42)\n",
    "rf_classifier.fit(X_train, y_train)\n",
    "\n",
    "end_time=time.time()\n",
    "\n",
    "execution_time=end_time-start_time\n",
    "\n",
    "print(\"Time taken in minutes:\",execution_time/60)"
   ]
  },
  {
   "cell_type": "code",
   "execution_count": 63,
   "id": "6fc1e977",
   "metadata": {},
   "outputs": [],
   "source": [
    "X_test=vectorizer.transform(X_test)"
   ]
  },
  {
   "cell_type": "code",
   "execution_count": 64,
   "id": "01cf3e8c",
   "metadata": {
    "scrolled": true
   },
   "outputs": [
    {
     "name": "stdout",
     "output_type": "stream",
     "text": [
      "              precision    recall  f1-score   support\n",
      "\n",
      "    negative       0.79      0.88      0.83      5265\n",
      "     neutral       0.32      0.76      0.45      2082\n",
      "    positive       0.99      0.89      0.94     32918\n",
      "\n",
      "    accuracy                           0.88     40265\n",
      "   macro avg       0.70      0.84      0.74     40265\n",
      "weighted avg       0.93      0.88      0.90     40265\n",
      "\n"
     ]
    }
   ],
   "source": [
    "# Step 5: Predict on test data and evaluate\n",
    "y_pred = rf_classifier.predict(X_test)\n",
    "print(classification_report(y_test, y_pred))"
   ]
  },
  {
   "cell_type": "markdown",
   "id": "e9946dd7",
   "metadata": {},
   "source": [
    "For the following steps, I have used BERT for sequence classification."
   ]
  },
  {
   "cell_type": "code",
   "execution_count": 47,
   "id": "ab31b02d",
   "metadata": {},
   "outputs": [
    {
     "name": "stdout",
     "output_type": "stream",
     "text": [
      "Sentiment\n",
      "positive    2000\n",
      "negative    2000\n",
      "neutral     2000\n",
      "Name: count, dtype: int64\n"
     ]
    }
   ],
   "source": [
    "# Separate majority and minority classes\n",
    "df_positive = df_summary[df_summary['Sentiment'] == 'positive']\n",
    "df_negative = df_summary[df_summary['Sentiment'] == 'negative']\n",
    "df_neutral = df_summary[df_summary['Sentiment'] == 'neutral']\n",
    "\n",
    "df_positive_downsampled=df_positive.sample(n=2000)\n",
    "\n",
    "# Upsample minority class\n",
    "df_negative_downsampled = df_negative.sample(n=2000)\n",
    "\n",
    "# Upsample minority class\n",
    "df_neutral_downsampled = df_neutral.sample(n=2000)\n",
    "\n",
    "# Combine majority class with upsampled minority class\n",
    "df_downsampled = pd.concat([df_positive_downsampled, df_negative_downsampled,df_neutral_downsampled])\n",
    "\n",
    "print(df_downsampled['Sentiment'].value_counts())"
   ]
  },
  {
   "cell_type": "markdown",
   "id": "16d14e84",
   "metadata": {},
   "source": [
    "Taking a balanced sample of the dataset having 2000 values for each class."
   ]
  },
  {
   "cell_type": "code",
   "execution_count": 48,
   "id": "5ad3089f",
   "metadata": {},
   "outputs": [],
   "source": [
    "sampled_train_df=df_downsampled"
   ]
  },
  {
   "cell_type": "code",
   "execution_count": 49,
   "id": "7e90bea4",
   "metadata": {},
   "outputs": [],
   "source": [
    "# Encode the sentiments\n",
    "label_encoder = LabelEncoder()\n",
    "sampled_train_df['label'] = label_encoder.fit_transform(sampled_train_df['Sentiment'])"
   ]
  },
  {
   "cell_type": "code",
   "execution_count": 50,
   "id": "00b96d1d",
   "metadata": {
    "scrolled": true
   },
   "outputs": [
    {
     "data": {
      "text/plain": [
       "label\n",
       "2    2000\n",
       "0    2000\n",
       "1    2000\n",
       "Name: count, dtype: int64"
      ]
     },
     "execution_count": 50,
     "metadata": {},
     "output_type": "execute_result"
    }
   ],
   "source": [
    "sampled_train_df['label'].value_counts()"
   ]
  },
  {
   "cell_type": "code",
   "execution_count": 51,
   "id": "e4200518",
   "metadata": {},
   "outputs": [
    {
     "data": {
      "text/plain": [
       "Sentiment\n",
       "positive    2000\n",
       "Name: count, dtype: int64"
      ]
     },
     "execution_count": 51,
     "metadata": {},
     "output_type": "execute_result"
    }
   ],
   "source": [
    "sampled_train_df[sampled_train_df['label']==2]['Sentiment'].value_counts()"
   ]
  },
  {
   "cell_type": "code",
   "execution_count": 53,
   "id": "40d4e699",
   "metadata": {},
   "outputs": [
    {
     "data": {
      "text/plain": [
       "Sentiment\n",
       "neutral    2000\n",
       "Name: count, dtype: int64"
      ]
     },
     "execution_count": 53,
     "metadata": {},
     "output_type": "execute_result"
    }
   ],
   "source": [
    "sampled_train_df[sampled_train_df['label']==1]['Sentiment'].value_counts()"
   ]
  },
  {
   "cell_type": "code",
   "execution_count": 54,
   "id": "efc9d212",
   "metadata": {
    "scrolled": false
   },
   "outputs": [
    {
     "data": {
      "text/plain": [
       "Sentiment\n",
       "negative    2000\n",
       "Name: count, dtype: int64"
      ]
     },
     "execution_count": 54,
     "metadata": {},
     "output_type": "execute_result"
    }
   ],
   "source": [
    "sampled_train_df[sampled_train_df['label']==0]['Sentiment'].value_counts()"
   ]
  },
  {
   "cell_type": "code",
   "execution_count": 55,
   "id": "b7c9a97f",
   "metadata": {
    "scrolled": true
   },
   "outputs": [
    {
     "data": {
      "text/html": [
       "<div>\n",
       "<style scoped>\n",
       "    .dataframe tbody tr th:only-of-type {\n",
       "        vertical-align: middle;\n",
       "    }\n",
       "\n",
       "    .dataframe tbody tr th {\n",
       "        vertical-align: top;\n",
       "    }\n",
       "\n",
       "    .dataframe thead th {\n",
       "        text-align: right;\n",
       "    }\n",
       "</style>\n",
       "<table border=\"1\" class=\"dataframe\">\n",
       "  <thead>\n",
       "    <tr style=\"text-align: right;\">\n",
       "      <th></th>\n",
       "      <th>product_name</th>\n",
       "      <th>Summary</th>\n",
       "      <th>Sentiment</th>\n",
       "      <th>label</th>\n",
       "    </tr>\n",
       "  </thead>\n",
       "  <tbody>\n",
       "    <tr>\n",
       "      <th>128456</th>\n",
       "      <td>EUREKA FORBES Trendy Zip Dry Vacuum Cleaner wi...</td>\n",
       "      <td>excellent</td>\n",
       "      <td>positive</td>\n",
       "      <td>2</td>\n",
       "    </tr>\n",
       "    <tr>\n",
       "      <th>196419</th>\n",
       "      <td>Qubo Smart Cam 360 Q100 by HERO GROUP 1080p FH...</td>\n",
       "      <td>working good no issues so far</td>\n",
       "      <td>positive</td>\n",
       "      <td>2</td>\n",
       "    </tr>\n",
       "    <tr>\n",
       "      <th>59076</th>\n",
       "      <td>VH000010A Analog Watch  - For Women</td>\n",
       "      <td>it was a great experience lovely watch</td>\n",
       "      <td>positive</td>\n",
       "      <td>2</td>\n",
       "    </tr>\n",
       "    <tr>\n",
       "      <th>50015</th>\n",
       "      <td>Men Solid Single Breasted Festive, Party, Wedd...</td>\n",
       "      <td>perfect fit</td>\n",
       "      <td>positive</td>\n",
       "      <td>2</td>\n",
       "    </tr>\n",
       "    <tr>\n",
       "      <th>36162</th>\n",
       "      <td>ENVY Combo Perfume For Men 60ML + 60ML Eau de ...</td>\n",
       "      <td>good</td>\n",
       "      <td>positive</td>\n",
       "      <td>2</td>\n",
       "    </tr>\n",
       "  </tbody>\n",
       "</table>\n",
       "</div>"
      ],
      "text/plain": [
       "                                             product_name  \\\n",
       "128456  EUREKA FORBES Trendy Zip Dry Vacuum Cleaner wi...   \n",
       "196419  Qubo Smart Cam 360 Q100 by HERO GROUP 1080p FH...   \n",
       "59076                 VH000010A Analog Watch  - For Women   \n",
       "50015   Men Solid Single Breasted Festive, Party, Wedd...   \n",
       "36162   ENVY Combo Perfume For Men 60ML + 60ML Eau de ...   \n",
       "\n",
       "                                       Summary Sentiment  label  \n",
       "128456                               excellent  positive      2  \n",
       "196419           working good no issues so far  positive      2  \n",
       "59076   it was a great experience lovely watch  positive      2  \n",
       "50015                              perfect fit  positive      2  \n",
       "36162                                     good  positive      2  "
      ]
     },
     "execution_count": 55,
     "metadata": {},
     "output_type": "execute_result"
    }
   ],
   "source": [
    "sampled_train_df.head()"
   ]
  },
  {
   "cell_type": "code",
   "execution_count": null,
   "id": "caced189",
   "metadata": {},
   "outputs": [],
   "source": []
  },
  {
   "cell_type": "markdown",
   "id": "a6b5ff3c",
   "metadata": {},
   "source": [
    "We have labelled the Sentiments as numbers, Negative:0, Neutral:1, Positive:1."
   ]
  },
  {
   "cell_type": "code",
   "execution_count": 33,
   "id": "5561e1d3",
   "metadata": {},
   "outputs": [],
   "source": [
    "#Get the values for input_ids, token_type_ids, attention_mask\n",
    "def tokenize_text(text):\n",
    "    tokenized_input = tokenizer.encode_plus(text,\n",
    "        max_length=64,  # Set your desired maximum sequence length\n",
    "        padding='max_length',\n",
    "        truncation=True,\n",
    "        return_tensors='pt',\n",
    "        return_attention_mask=True)\n",
    "    return tokenized_input\n",
    "\n",
    "sampled_train_df[\"tokenized_input\"]=sampled_train_df['Summary'].apply(tokenize_text)"
   ]
  },
  {
   "cell_type": "markdown",
   "id": "6dc277c3",
   "metadata": {},
   "source": [
    "We have tokenized the input Summary, maximum length of the token being 64. We can experience with reducing it later as the summary length is small."
   ]
  },
  {
   "cell_type": "code",
   "execution_count": 34,
   "id": "6ddc92ba",
   "metadata": {},
   "outputs": [],
   "source": [
    "def make_training_data(tokenized_input,adjusted_labels):\n",
    "    input_ids=tokenized_input[\"input_ids\"][0]\n",
    "    token_type_ids=tokenized_input[\"token_type_ids\"][0]\n",
    "    attention_mask=tokenized_input[\"attention_mask\"][0]\n",
    "    \n",
    "    labels=torch.tensor(adjusted_labels)\n",
    "    features={\n",
    "        'input_ids': input_ids,\n",
    "        'token_type_ids':token_type_ids,\n",
    "        'attention_mask': attention_mask,\n",
    "        'labels': labels\n",
    "    }\n",
    "    return features"
   ]
  },
  {
   "cell_type": "code",
   "execution_count": 35,
   "id": "d04a2dec",
   "metadata": {},
   "outputs": [],
   "source": [
    "sampled_train_df[\"features\"]=sampled_train_df.apply(lambda row: make_training_data(row['tokenized_input'], row['label']), axis=1)"
   ]
  },
  {
   "cell_type": "code",
   "execution_count": 36,
   "id": "a86556ae",
   "metadata": {},
   "outputs": [
    {
     "data": {
      "text/html": [
       "<div>\n",
       "<style scoped>\n",
       "    .dataframe tbody tr th:only-of-type {\n",
       "        vertical-align: middle;\n",
       "    }\n",
       "\n",
       "    .dataframe tbody tr th {\n",
       "        vertical-align: top;\n",
       "    }\n",
       "\n",
       "    .dataframe thead th {\n",
       "        text-align: right;\n",
       "    }\n",
       "</style>\n",
       "<table border=\"1\" class=\"dataframe\">\n",
       "  <thead>\n",
       "    <tr style=\"text-align: right;\">\n",
       "      <th></th>\n",
       "      <th>product_name</th>\n",
       "      <th>Summary</th>\n",
       "      <th>Sentiment</th>\n",
       "      <th>label</th>\n",
       "      <th>tokenized_input</th>\n",
       "      <th>features</th>\n",
       "    </tr>\n",
       "  </thead>\n",
       "  <tbody>\n",
       "    <tr>\n",
       "      <th>134887</th>\n",
       "      <td>Butterfly Rapid Plus Wet Grinder with Coconut ...</td>\n",
       "      <td>strongly recommended nice product</td>\n",
       "      <td>positive</td>\n",
       "      <td>2</td>\n",
       "      <td>[input_ids, token_type_ids, attention_mask]</td>\n",
       "      <td>{'input_ids': [tensor(101), tensor(6118), tens...</td>\n",
       "    </tr>\n",
       "    <tr>\n",
       "      <th>82259</th>\n",
       "      <td>Pediasure Complete Balanced Nutrition to Help ...</td>\n",
       "      <td>nice product</td>\n",
       "      <td>positive</td>\n",
       "      <td>2</td>\n",
       "      <td>[input_ids, token_type_ids, attention_mask]</td>\n",
       "      <td>{'input_ids': [tensor(101), tensor(3835), tens...</td>\n",
       "    </tr>\n",
       "    <tr>\n",
       "      <th>178260</th>\n",
       "      <td>ROYAL TREND Fabric SofaFinish Color  Pink Prea...</td>\n",
       "      <td>great</td>\n",
       "      <td>positive</td>\n",
       "      <td>2</td>\n",
       "      <td>[input_ids, token_type_ids, attention_mask]</td>\n",
       "      <td>{'input_ids': [tensor(101), tensor(2307), tens...</td>\n",
       "    </tr>\n",
       "    <tr>\n",
       "      <th>19411</th>\n",
       "      <td>Seagate One Touch with Password Protection for...</td>\n",
       "      <td>nice product</td>\n",
       "      <td>positive</td>\n",
       "      <td>2</td>\n",
       "      <td>[input_ids, token_type_ids, attention_mask]</td>\n",
       "      <td>{'input_ids': [tensor(101), tensor(3835), tens...</td>\n",
       "    </tr>\n",
       "    <tr>\n",
       "      <th>116259</th>\n",
       "      <td>Mi 5A 80 cm (32 inch) HD Ready LED Smart Andro...</td>\n",
       "      <td>nice product</td>\n",
       "      <td>positive</td>\n",
       "      <td>2</td>\n",
       "      <td>[input_ids, token_type_ids, attention_mask]</td>\n",
       "      <td>{'input_ids': [tensor(101), tensor(3835), tens...</td>\n",
       "    </tr>\n",
       "  </tbody>\n",
       "</table>\n",
       "</div>"
      ],
      "text/plain": [
       "                                             product_name  \\\n",
       "134887  Butterfly Rapid Plus Wet Grinder with Coconut ...   \n",
       "82259   Pediasure Complete Balanced Nutrition to Help ...   \n",
       "178260  ROYAL TREND Fabric SofaFinish Color  Pink Prea...   \n",
       "19411   Seagate One Touch with Password Protection for...   \n",
       "116259  Mi 5A 80 cm (32 inch) HD Ready LED Smart Andro...   \n",
       "\n",
       "                                  Summary Sentiment  label  \\\n",
       "134887  strongly recommended nice product  positive      2   \n",
       "82259                        nice product  positive      2   \n",
       "178260                              great  positive      2   \n",
       "19411                        nice product  positive      2   \n",
       "116259                       nice product  positive      2   \n",
       "\n",
       "                                    tokenized_input  \\\n",
       "134887  [input_ids, token_type_ids, attention_mask]   \n",
       "82259   [input_ids, token_type_ids, attention_mask]   \n",
       "178260  [input_ids, token_type_ids, attention_mask]   \n",
       "19411   [input_ids, token_type_ids, attention_mask]   \n",
       "116259  [input_ids, token_type_ids, attention_mask]   \n",
       "\n",
       "                                                 features  \n",
       "134887  {'input_ids': [tensor(101), tensor(6118), tens...  \n",
       "82259   {'input_ids': [tensor(101), tensor(3835), tens...  \n",
       "178260  {'input_ids': [tensor(101), tensor(2307), tens...  \n",
       "19411   {'input_ids': [tensor(101), tensor(3835), tens...  \n",
       "116259  {'input_ids': [tensor(101), tensor(3835), tens...  "
      ]
     },
     "execution_count": 36,
     "metadata": {},
     "output_type": "execute_result"
    }
   ],
   "source": [
    "sampled_train_df.head()"
   ]
  },
  {
   "cell_type": "code",
   "execution_count": 37,
   "id": "33021883",
   "metadata": {},
   "outputs": [
    {
     "data": {
      "text/plain": [
       "6000"
      ]
     },
     "execution_count": 37,
     "metadata": {},
     "output_type": "execute_result"
    }
   ],
   "source": [
    "sampled_train_df.shape[0]"
   ]
  },
  {
   "cell_type": "code",
   "execution_count": 38,
   "id": "1a459f63",
   "metadata": {},
   "outputs": [
    {
     "name": "stdout",
     "output_type": "stream",
     "text": [
      "Sentiment\n",
      "positive    2000\n",
      "negative    2000\n",
      "neutral     2000\n",
      "Name: count, dtype: int64\n"
     ]
    }
   ],
   "source": [
    "print(sampled_train_df['Sentiment'].value_counts())"
   ]
  },
  {
   "cell_type": "code",
   "execution_count": 39,
   "id": "2ffab543",
   "metadata": {
    "scrolled": false
   },
   "outputs": [
    {
     "data": {
      "text/plain": [
       "product_name       0\n",
       "Summary            0\n",
       "Sentiment          0\n",
       "label              0\n",
       "tokenized_input    0\n",
       "features           0\n",
       "dtype: int64"
      ]
     },
     "execution_count": 39,
     "metadata": {},
     "output_type": "execute_result"
    }
   ],
   "source": [
    "sampled_train_df.isnull().sum()"
   ]
  },
  {
   "cell_type": "markdown",
   "id": "ab173310",
   "metadata": {},
   "source": [
    "Made it in a training data format to feed into model."
   ]
  },
  {
   "cell_type": "markdown",
   "id": "fae83c43",
   "metadata": {},
   "source": [
    "Now first split the dataset into training and test data with equal class distribution. Then train the training data using AdamW optimizer checking validation accuracy each step. "
   ]
  },
  {
   "cell_type": "code",
   "execution_count": 40,
   "id": "cb055cf1",
   "metadata": {
    "scrolled": true
   },
   "outputs": [
    {
     "name": "stderr",
     "output_type": "stream",
     "text": [
      "Some weights of BertForSequenceClassification were not initialized from the model checkpoint at bert-base-uncased and are newly initialized: ['classifier.bias', 'classifier.weight']\n",
      "You should probably TRAIN this model on a down-stream task to be able to use it for predictions and inference.\n"
     ]
    },
    {
     "name": "stdout",
     "output_type": "stream",
     "text": [
      "Epoch 1/2, Validation Loss: 0.41323215117057166, Validation Accuracy: 0.84\n",
      "Epoch 2/2, Validation Loss: 0.39256020726015173, Validation Accuracy: 0.8508333333333333\n",
      "Execution time in minutes: 268.20448827346166\n"
     ]
    }
   ],
   "source": [
    "import pandas as pd\n",
    "import torch\n",
    "from transformers import BertTokenizer, BertForSequenceClassification\n",
    "from torch.utils.data import DataLoader, Dataset, random_split\n",
    "from sklearn.preprocessing import LabelEncoder\n",
    "from sklearn.model_selection import train_test_split\n",
    "from torch.optim import AdamW\n",
    "from torch.nn.functional import cross_entropy\n",
    "\n",
    "start_time=time.time()\n",
    "\n",
    "# Split data\n",
    "train_df, val_df = train_test_split(sampled_train_df, test_size=0.2, random_state=42, stratify=sampled_train_df['label'])\n",
    "\n",
    "train_dataset = train_df['features'].tolist()\n",
    "val_dataset = val_df['features'].tolist()\n",
    "\n",
    "# DataLoader\n",
    "train_dataloader = DataLoader(train_dataset, batch_size=8, shuffle=True)\n",
    "val_dataloader = DataLoader(val_dataset, batch_size=8)\n",
    "\n",
    "# Load BERT model\n",
    "model = BertForSequenceClassification.from_pretrained('bert-base-uncased', num_labels=3)\n",
    "\n",
    "# Optimizer\n",
    "optimizer = AdamW(model.parameters(), lr=1e-5)\n",
    "\n",
    "# Training loop\n",
    "def train(model, train_dataloader, optimizer):\n",
    "    model.train()\n",
    "    for batch in train_dataloader:\n",
    "        optimizer.zero_grad()\n",
    "        outputs = model(**batch)\n",
    "        loss = outputs.loss\n",
    "        loss.backward()\n",
    "        optimizer.step()\n",
    "\n",
    "# Evaluation loop\n",
    "def evaluate(model, val_dataloader):\n",
    "    model.eval()\n",
    "    val_loss = 0\n",
    "    correct = 0\n",
    "    total = 0\n",
    "    with torch.no_grad():\n",
    "        for batch in val_dataloader:\n",
    "            outputs = model(**batch)\n",
    "            loss = outputs.loss\n",
    "            val_loss += loss.item()\n",
    "            logits = outputs.logits\n",
    "            preds = torch.argmax(logits, dim=1)\n",
    "            correct += (preds == batch['labels']).sum().item()\n",
    "            total += batch['labels'].size(0)\n",
    "    accuracy = correct / total\n",
    "    return val_loss / len(val_dataloader), accuracy\n",
    "\n",
    "# Train and evaluate the model\n",
    "num_epochs = 2\n",
    "for epoch in range(num_epochs):\n",
    "    train(model, train_dataloader, optimizer)\n",
    "    val_loss, val_accuracy = evaluate(model, val_dataloader)\n",
    "    print(f'Epoch {epoch+1}/{num_epochs}, Validation Loss: {val_loss}, Validation Accuracy: {val_accuracy}')\n",
    "\n",
    "# Save the trained model\n",
    "output_dir = \"./SA_model_BERT_Downsample_Big_negposneu\"\n",
    "model.save_pretrained(output_dir)\n",
    "    \n",
    "end_time=time.time()\n",
    "\n",
    "execution_time=end_time-start_time\n",
    "\n",
    "print(\"Execution time in minutes:\",execution_time/60)"
   ]
  },
  {
   "cell_type": "code",
   "execution_count": 43,
   "id": "0b7bbb52",
   "metadata": {
    "scrolled": true
   },
   "outputs": [
    {
     "name": "stdout",
     "output_type": "stream",
     "text": [
      "Execution time in hours: 4.470074804557695\n"
     ]
    }
   ],
   "source": [
    "print(\"Execution time in hours:\",execution_time/3600)"
   ]
  },
  {
   "cell_type": "markdown",
   "id": "fad91cc5",
   "metadata": {},
   "source": [
    "It took almost 5 hours with 4800 values to train the model."
   ]
  },
  {
   "cell_type": "code",
   "execution_count": 44,
   "id": "29f69ca4",
   "metadata": {},
   "outputs": [],
   "source": [
    "label_names=['negative','neutral','positive']"
   ]
  },
  {
   "cell_type": "code",
   "execution_count": 45,
   "id": "8f0b109c",
   "metadata": {},
   "outputs": [
    {
     "data": {
      "text/plain": [
       "{0: 'negative', 1: 'neutral', 2: 'positive'}"
      ]
     },
     "execution_count": 45,
     "metadata": {},
     "output_type": "execute_result"
    }
   ],
   "source": [
    "label2id = {k: v for v, k in enumerate(label_names)}\n",
    "id2label = {v: k for v, k in enumerate(label_names)}\n",
    "id2label"
   ]
  },
  {
   "cell_type": "code",
   "execution_count": 46,
   "id": "9659973d",
   "metadata": {},
   "outputs": [],
   "source": [
    "def get_prediction(Sentence):\n",
    "    \n",
    "    inputs = tokenizer(Sentence, return_tensors=\"pt\")\n",
    "    \n",
    "    # Step 2: Inference\n",
    "    with torch.no_grad():\n",
    "        outputs = model(**inputs)\n",
    "\n",
    "    # Assuming your TokenClassifierOutput object is named 'output'\n",
    "    logits = outputs.logits\n",
    "\n",
    "#     # Apply softmax to get probabilities\n",
    "#     probs = F.softmax(logits, dim=-1)\n",
    "\n",
    "    # Get the predicted labels (classes with highest probability)\n",
    "    predicted_labels = torch.argmax(logits, dim=-1)\n",
    "    \n",
    "    predicted_labels = predicted_labels.tolist()\n",
    "\n",
    "    labels = id2label[predicted_labels[0]]\n",
    "    return labels"
   ]
  },
  {
   "cell_type": "code",
   "execution_count": 47,
   "id": "d45c7117",
   "metadata": {},
   "outputs": [],
   "source": [
    "val_df[\"Predicted Sentiment\"]=val_df[\"Summary\"].apply(get_prediction)"
   ]
  },
  {
   "cell_type": "code",
   "execution_count": 48,
   "id": "9d0616ed",
   "metadata": {
    "scrolled": true
   },
   "outputs": [
    {
     "name": "stdout",
     "output_type": "stream",
     "text": [
      "              precision    recall  f1-score   support\n",
      "\n",
      "    negative       0.87      0.89      0.88       400\n",
      "     neutral       0.79      0.77      0.78       400\n",
      "    positive       0.89      0.90      0.90       400\n",
      "\n",
      "    accuracy                           0.85      1200\n",
      "   macro avg       0.85      0.85      0.85      1200\n",
      "weighted avg       0.85      0.85      0.85      1200\n",
      "\n"
     ]
    }
   ],
   "source": [
    "print(classification_report(val_df[\"Sentiment\"], val_df[\"Predicted Sentiment\"]))"
   ]
  },
  {
   "cell_type": "markdown",
   "id": "f3e5d719",
   "metadata": {},
   "source": [
    "The validation f1-score for \"neutral\" sentiment increases whereas the f1-score for \"positive\" sentiment decreases slightly from 97% to 90% in case of random forest classifier to BERT for sequence classification. But for BERT I only took 4800 rows whereas for random forest it's 150000 upsampled rows. The time taken in BERT model training is significatly higher."
   ]
  },
  {
   "cell_type": "code",
   "execution_count": 49,
   "id": "d3f9f6be",
   "metadata": {},
   "outputs": [],
   "source": [
    "val_df.to_csv(\"Predicted_Val_negposneu.csv\")"
   ]
  },
  {
   "cell_type": "code",
   "execution_count": 50,
   "id": "550bc43e",
   "metadata": {},
   "outputs": [],
   "source": [
    "train_df[\"Predicted Sentiment\"]=train_df[\"Summary\"].apply(get_prediction)"
   ]
  },
  {
   "cell_type": "code",
   "execution_count": 51,
   "id": "396973b5",
   "metadata": {},
   "outputs": [
    {
     "name": "stdout",
     "output_type": "stream",
     "text": [
      "              precision    recall  f1-score   support\n",
      "\n",
      "    negative       0.95      0.95      0.95      1600\n",
      "     neutral       0.90      0.90      0.90      1600\n",
      "    positive       0.95      0.95      0.95      1600\n",
      "\n",
      "    accuracy                           0.93      4800\n",
      "   macro avg       0.93      0.93      0.93      4800\n",
      "weighted avg       0.93      0.93      0.93      4800\n",
      "\n"
     ]
    }
   ],
   "source": [
    "print(classification_report(train_df[\"Sentiment\"], train_df[\"Predicted Sentiment\"]))"
   ]
  },
  {
   "cell_type": "code",
   "execution_count": 52,
   "id": "350d17ab",
   "metadata": {},
   "outputs": [],
   "source": [
    "train_df.to_csv(\"Predicted_Train_negposneu.csv\")"
   ]
  }
 ],
 "metadata": {
  "kernelspec": {
   "display_name": "Python 3 (ipykernel)",
   "language": "python",
   "name": "python3"
  },
  "language_info": {
   "codemirror_mode": {
    "name": "ipython",
    "version": 3
   },
   "file_extension": ".py",
   "mimetype": "text/x-python",
   "name": "python",
   "nbconvert_exporter": "python",
   "pygments_lexer": "ipython3",
   "version": "3.11.5"
  }
 },
 "nbformat": 4,
 "nbformat_minor": 5
}
